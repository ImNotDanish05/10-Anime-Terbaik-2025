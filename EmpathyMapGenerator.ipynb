{
  "nbformat": 4,
  "nbformat_minor": 0,
  "metadata": {
    "colab": {
      "provenance": [],
      "authorship_tag": "ABX9TyOPkbI/Q1PPNWQO5xKgsDg6",
      "include_colab_link": true
    },
    "kernelspec": {
      "name": "python3",
      "display_name": "Python 3"
    },
    "language_info": {
      "name": "python"
    }
  },
  "cells": [
    {
      "cell_type": "markdown",
      "metadata": {
        "id": "view-in-github",
        "colab_type": "text"
      },
      "source": [
        "<a href=\"https://colab.research.google.com/github/ImNotDanish05/10-Anime-Terbaik-2025/blob/main/EmpathyMapGenerator.ipynb\" target=\"_parent\"><img src=\"https://colab.research.google.com/assets/colab-badge.svg\" alt=\"Open In Colab\"/></a>"
      ]
    },
    {
      "cell_type": "markdown",
      "source": [
        "By: ImNotDanish05"
      ],
      "metadata": {
        "id": "hk1TZVxomwAB"
      }
    },
    {
      "cell_type": "code",
      "source": [
        "%%writefile data.json\n",
        "[\n",
        "  {\n",
        "    \"User\": \"User 1\",\n",
        "    \"Says\": \"Situs portal berita yang informatif.\",\n",
        "    \"Thinks\": \"Iklan sangat banyak dan mengganggu. Kadang iklan ini membuat tidak sengaja ter-klik. Sebaiknya iklan difilter.\",\n",
        "    \"Does\": \"Scrolling sampai halaman paling bawah, mencari berita via Google search.\",\n",
        "    \"Feels\": \"Merasa terbantu karena banyak info, tapi juga merasa kurang nyaman dan terganggu karena iklan.\"\n",
        "  },\n",
        "  {\n",
        "    \"User\": \"User 2\",\n",
        "    \"Says\": [\"Saya sering menggunakan Kompas.com.\", \"Overall UI/UX sudah bagus.\"],\n",
        "    \"Thinks\": \"Terlalu banyak iklan yang mengganggu.\",\n",
        "    \"Does\": \"Melihat tampilan dan membaca informasi yang sedang dicari, menggunakan search bar.\",\n",
        "    \"Feels\": \"Puas dan menyenangkan, tapi sedikit terganggu oleh iklan.\"\n",
        "  },\n",
        "  {\n",
        "    \"User\": \"User 3\",\n",
        "    \"Says\": [\"Pengalaman menggunakan Kompas cukup melelahkan.\", \"Tampilan awal terlalu ramai dan banyak iklan.\"],\n",
        "    \"Thinks\": \"UI-nya kurang menarik, terkesan monoton. Tampilan awal bisa membingungkan pengguna baru, tapi search engine-nya sangat membantu. Iklan harus dikurangi.\",\n",
        "    \"Does\": \"Mencari berita dan menggunakan search engine yang tersedia di situs.\",\n",
        "    \"Feels\": \"Merasa lelah dan mood jadi jelek karena iklan dan tampilan yang ramai. Merasa bingung di awal.\"\n",
        "  },\n",
        "  {\n",
        "    \"User\": \"User 4\",\n",
        "    \"Says\": \"Penuh dan menyenangkan.\",\n",
        "    \"Thinks\": \"Terlalu banyak iklan di halaman muka. Tampilan muka penuh dan beraneka ragam. Berita penting seharusnya lebih ditonjolkan dan iklan dipindah ke sisi kanan.\",\n",
        "    \"Does\": \"Mencari judul berita yang ingin dibaca, menuliskannya di search bar (Google atau website).\",\n",
        "    \"Feels\": \"Merasa bingung karena halaman depan terlalu penuh, tapi menyenangkan ketika menemukan berita yang dicari.\"\n",
        "  }\n",
        "]\n"
      ],
      "metadata": {
        "colab": {
          "base_uri": "https://localhost:8080/"
        },
        "id": "LB8hYlHHf2Gw",
        "outputId": "06c71939-4432-43c0-d047-7efb4f281bf6"
      },
      "execution_count": 1,
      "outputs": [
        {
          "output_type": "stream",
          "name": "stdout",
          "text": [
            "Writing data.json\n"
          ]
        }
      ]
    },
    {
      "cell_type": "code",
      "source": [
        "import json\n",
        "import matplotlib.pyplot as plt\n",
        "from textwrap import fill\n",
        "import os\n",
        "import zipfile\n",
        "\n",
        "# === Load JSON Data ===\n",
        "with open(\"data.json\", \"r\", encoding=\"utf-8\") as f:\n",
        "    data = json.load(f)\n",
        "\n",
        "# Folder untuk simpan gambar\n",
        "os.makedirs(\"empathy_maps\", exist_ok=True)\n",
        "\n",
        "def plot_empathy_map(user_data, save_path):\n",
        "    fig, ax = plt.subplots(figsize=(9, 9))  # lebih besar biar teks muat\n",
        "\n",
        "    # Kotak besar\n",
        "    ax.set_xlim(0, 10)\n",
        "    ax.set_ylim(0, 10)\n",
        "    ax.axis(\"off\")\n",
        "\n",
        "    # Garis pembagi\n",
        "    ax.plot([5, 5], [0, 10], color=\"black\", linewidth=1.5)\n",
        "    ax.plot([0, 10], [5, 5], color=\"black\", linewidth=1.5)\n",
        "\n",
        "    # Judul user di tengah\n",
        "    ax.text(5, 5, user_data[\"User\"], fontsize=14, weight=\"bold\",\n",
        "            ha=\"center\", va=\"center\",\n",
        "            bbox=dict(facecolor=\"white\", edgecolor=\"black\"))\n",
        "\n",
        "    # Helper wrap text\n",
        "    def wrap(text, width=35):\n",
        "        if isinstance(text, list):\n",
        "            text = \" \".join(text)\n",
        "        return fill(text, width=width)\n",
        "\n",
        "    # Kotak teks tiap quadrant\n",
        "    ax.text(1.0, 9.3, \"SAYS:\\n\" + wrap(user_data[\"Says\"]),\n",
        "            fontsize=10, ha=\"left\", va=\"top\",\n",
        "            bbox=dict(facecolor=\"white\", alpha=0.8, edgecolor=\"none\"))\n",
        "\n",
        "    ax.text(9.0, 9.3, \"THINKS:\\n\" + wrap(user_data[\"Thinks\"]),\n",
        "            fontsize=10, ha=\"right\", va=\"top\",\n",
        "            bbox=dict(facecolor=\"white\", alpha=0.8, edgecolor=\"none\"))\n",
        "\n",
        "    ax.text(1.0, 0.7, \"DOES:\\n\" + wrap(user_data[\"Does\"]),\n",
        "            fontsize=10, ha=\"left\", va=\"bottom\",\n",
        "            bbox=dict(facecolor=\"white\", alpha=0.8, edgecolor=\"none\"))\n",
        "\n",
        "    ax.text(9.0, 0.7, \"FEELS:\\n\" + wrap(user_data[\"Feels\"]),\n",
        "            fontsize=10, ha=\"right\", va=\"bottom\",\n",
        "            bbox=dict(facecolor=\"white\", alpha=0.8, edgecolor=\"none\"))\n",
        "\n",
        "    # Save gambar\n",
        "    plt.savefig(save_path, dpi=150)\n",
        "    plt.close(fig)  # penting, biar memory gak penuh\n",
        "\n",
        "# === Generate & Save Empathy Map tiap User ===\n",
        "for user in data:\n",
        "    filename = f\"empathy_maps/{user['User'].replace(' ', '_')}.png\"\n",
        "    plot_empathy_map(user, filename)\n",
        "\n",
        "# === Buat ZIP file ===\n",
        "zip_filename = \"empathy_maps.zip\"\n",
        "with zipfile.ZipFile(zip_filename, 'w') as zipf:\n",
        "    for root, dirs, files in os.walk(\"empathy_maps\"):\n",
        "        for file in files:\n",
        "            zipf.write(os.path.join(root, file))\n",
        "\n",
        "print(f\"✅ Semua empathy map sudah disimpan ke {zip_filename}\")\n"
      ],
      "metadata": {
        "colab": {
          "base_uri": "https://localhost:8080/"
        },
        "id": "h7PXMDivgxm7",
        "outputId": "953b7183-dacc-430c-8fa7-43d28bb9851b"
      },
      "execution_count": 9,
      "outputs": [
        {
          "output_type": "stream",
          "name": "stdout",
          "text": [
            "✅ Semua empathy map sudah disimpan ke empathy_maps.zip\n"
          ]
        }
      ]
    }
  ]
}