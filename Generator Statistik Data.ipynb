{
  "nbformat": 4,
  "nbformat_minor": 0,
  "metadata": {
    "colab": {
      "provenance": [],
      "authorship_tag": "ABX9TyOaII/g8hOqjhK0jnL+jUPN",
      "include_colab_link": true
    },
    "kernelspec": {
      "name": "python3",
      "display_name": "Python 3"
    },
    "language_info": {
      "name": "python"
    }
  },
  "cells": [
    {
      "cell_type": "markdown",
      "metadata": {
        "id": "view-in-github",
        "colab_type": "text"
      },
      "source": [
        "<a href=\"https://colab.research.google.com/github/ImNotDanish05/10-Anime-Terbaik-2025/blob/main/Generator%20Statistik%20Data.ipynb\" target=\"_parent\"><img src=\"https://colab.research.google.com/assets/colab-badge.svg\" alt=\"Open In Colab\"/></a>"
      ]
    },
    {
      "cell_type": "code",
      "source": [
        "import numpy as np\n",
        "import pandas as pd\n",
        "from scipy.stats import spearmanr\n",
        "\n",
        "np.random.seed(42)\n",
        "\n",
        "# Jumlah data\n",
        "n = 50\n",
        "\n",
        "# Generate Jenis Gelas (1-5)\n",
        "jenis_gelas = np.random.randint(1, 6, size=n)\n",
        "\n",
        "# Buat Tingkat Kerusakan negatif berkorelasi dengan Jenis Gelas\n",
        "# Misalnya semakin tinggi jenis_gelas, semakin rendah tingkat kerusakan\n",
        "tingkat_kerusakan = 6 - jenis_gelas + np.random.normal(0, 0.5, n)\n",
        "tingkat_kerusakan = np.clip(np.round(tingkat_kerusakan), 1, 5).astype(int)\n",
        "\n",
        "# Buat Warna Gelas negatif berkorelasi dengan Tingkat Kerusakan\n",
        "# dan positif berkorelasi dengan Jenis Gelas\n",
        "# Caranya: Warna Gelas mirip dengan Jenis Gelas + noise\n",
        "warna_gelas = jenis_gelas + np.random.normal(0, 0.5, n)\n",
        "warna_gelas = np.clip(np.round(warna_gelas), 1, 4).astype(int)\n",
        "\n",
        "# Buat dataframe\n",
        "df = pd.DataFrame({\n",
        "    'Tingkat_Kerusakan': tingkat_kerusakan,\n",
        "    'Jenis_Gelas': jenis_gelas,\n",
        "    'Warna_Gelas': warna_gelas\n",
        "})\n",
        "\n",
        "# Cek korelasi dan signifikansi\n",
        "corr_tk_jg, p_tk_jg = spearmanr(df['Tingkat_Kerusakan'], df['Jenis_Gelas'])\n",
        "corr_tk_wg, p_tk_wg = spearmanr(df['Tingkat_Kerusakan'], df['Warna_Gelas'])\n",
        "corr_jg_wg, p_jg_wg = spearmanr(df['Jenis_Gelas'], df['Warna_Gelas'])\n",
        "\n",
        "excel_file_path = \"data_tugas_senpai.xlsx\"\n",
        "df.to_excel(excel_file_path, index=False)"
      ],
      "metadata": {
        "id": "lvdPFUqXiGzX"
      },
      "execution_count": 3,
      "outputs": []
    }
  ]
}